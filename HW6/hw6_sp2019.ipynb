{
 "cells": [
  {
   "cell_type": "markdown",
   "metadata": {},
   "source": [
    "# Data-X Spring 2019: Homework 06 \n",
    "\n",
    "## Name : \n",
    "\n",
    "Anish Saha\n",
    "\n",
    "## SID :\n",
    "\n",
    "26071616\n",
    "\n",
    "## Course (IEOR 135/290) :\n",
    "\n",
    "### Machine Learning\n",
    "\n",
    "\n",
    "\n",
    "In this homework, you will do some exercises with prediction. We will cover these algorithms in class, but this is for you to have some hands on with these in scikit-learn. You can refer - https://github.com/ikhlaqsidhu/data-x/blob/master/05a-tools-predicition-titanic/titanic.ipynb\n",
    "\n",
    "Display all your outputs.\n"
   ]
  },
  {
   "cell_type": "code",
   "execution_count": 1,
   "metadata": {},
   "outputs": [],
   "source": [
    "import numpy as np\n",
    "import pandas as pd"
   ]
  },
  {
   "cell_type": "code",
   "execution_count": 2,
   "metadata": {},
   "outputs": [],
   "source": [
    " # machine learning libraries\n",
    "from sklearn.linear_model import LogisticRegression\n",
    "from sklearn.ensemble import RandomForestClassifier\n",
    "from sklearn.ensemble import AdaBoostClassifier\n",
    "from sklearn.linear_model import Perceptron\n",
    "from sklearn.tree import DecisionTreeClassifier"
   ]
  },
  {
   "cell_type": "markdown",
   "metadata": {},
   "source": [
    "\n",
    "\n",
    "__ 1. Read __`diabetesdata.csv`__ file into a pandas dataframe. \n",
    "About the data: __\n",
    "\n",
    "1. __TimesPregnant__: Number of times pregnant \n",
    "2. __glucoseLevel__: Plasma glucose concentration a 2 hours in an oral glucose tolerance test \n",
    "3. __BP__: Diastolic blood pressure (mm Hg)  \n",
    "5. __insulin__: 2-Hour serum insulin (mu U/ml) \n",
    "6. __BMI__: Body mass index (weight in kg/(height in m)^2) \n",
    "7. __pedigree__: Diabetes pedigree function \n",
    "8. __Age__: Age (years) \n",
    "9. __IsDiabetic__: 0 if not diabetic or 1 if diabetic) \n",
    "\n",
    "\n",
    "\n",
    "\n",
    "\n",
    "\n"
   ]
  },
  {
   "cell_type": "code",
   "execution_count": 3,
   "metadata": {},
   "outputs": [
    {
     "data": {
      "text/html": [
       "<div>\n",
       "<style scoped>\n",
       "    .dataframe tbody tr th:only-of-type {\n",
       "        vertical-align: middle;\n",
       "    }\n",
       "\n",
       "    .dataframe tbody tr th {\n",
       "        vertical-align: top;\n",
       "    }\n",
       "\n",
       "    .dataframe thead th {\n",
       "        text-align: right;\n",
       "    }\n",
       "</style>\n",
       "<table border=\"1\" class=\"dataframe\">\n",
       "  <thead>\n",
       "    <tr style=\"text-align: right;\">\n",
       "      <th></th>\n",
       "      <th>TimesPregnant</th>\n",
       "      <th>glucoseLevel</th>\n",
       "      <th>BP</th>\n",
       "      <th>insulin</th>\n",
       "      <th>BMI</th>\n",
       "      <th>Pedigree</th>\n",
       "      <th>Age</th>\n",
       "      <th>IsDiabetic</th>\n",
       "    </tr>\n",
       "  </thead>\n",
       "  <tbody>\n",
       "    <tr>\n",
       "      <th>0</th>\n",
       "      <td>6</td>\n",
       "      <td>148.0</td>\n",
       "      <td>72</td>\n",
       "      <td>0</td>\n",
       "      <td>33.6</td>\n",
       "      <td>0.627</td>\n",
       "      <td>50.0</td>\n",
       "      <td>1</td>\n",
       "    </tr>\n",
       "    <tr>\n",
       "      <th>1</th>\n",
       "      <td>1</td>\n",
       "      <td>NaN</td>\n",
       "      <td>66</td>\n",
       "      <td>0</td>\n",
       "      <td>26.6</td>\n",
       "      <td>0.351</td>\n",
       "      <td>31.0</td>\n",
       "      <td>0</td>\n",
       "    </tr>\n",
       "    <tr>\n",
       "      <th>2</th>\n",
       "      <td>8</td>\n",
       "      <td>183.0</td>\n",
       "      <td>64</td>\n",
       "      <td>0</td>\n",
       "      <td>23.3</td>\n",
       "      <td>0.672</td>\n",
       "      <td>NaN</td>\n",
       "      <td>1</td>\n",
       "    </tr>\n",
       "    <tr>\n",
       "      <th>3</th>\n",
       "      <td>1</td>\n",
       "      <td>NaN</td>\n",
       "      <td>66</td>\n",
       "      <td>94</td>\n",
       "      <td>28.1</td>\n",
       "      <td>0.167</td>\n",
       "      <td>21.0</td>\n",
       "      <td>0</td>\n",
       "    </tr>\n",
       "    <tr>\n",
       "      <th>4</th>\n",
       "      <td>0</td>\n",
       "      <td>137.0</td>\n",
       "      <td>40</td>\n",
       "      <td>168</td>\n",
       "      <td>43.1</td>\n",
       "      <td>2.288</td>\n",
       "      <td>33.0</td>\n",
       "      <td>1</td>\n",
       "    </tr>\n",
       "  </tbody>\n",
       "</table>\n",
       "</div>"
      ],
      "text/plain": [
       "   TimesPregnant  glucoseLevel  BP  insulin   BMI  Pedigree   Age  IsDiabetic\n",
       "0              6         148.0  72        0  33.6     0.627  50.0           1\n",
       "1              1           NaN  66        0  26.6     0.351  31.0           0\n",
       "2              8         183.0  64        0  23.3     0.672   NaN           1\n",
       "3              1           NaN  66       94  28.1     0.167  21.0           0\n",
       "4              0         137.0  40      168  43.1     2.288  33.0           1"
      ]
     },
     "execution_count": 3,
     "metadata": {},
     "output_type": "execute_result"
    }
   ],
   "source": [
    "#Read data & print the head\n",
    "df = pd.read_csv(\"diabetesdata.csv\")\n",
    "df.head()"
   ]
  },
  {
   "cell_type": "markdown",
   "metadata": {},
   "source": [
    "**2. Calculate the percentage of Null values in each column and display it. **"
   ]
  },
  {
   "cell_type": "code",
   "execution_count": 4,
   "metadata": {},
   "outputs": [
    {
     "data": {
      "text/plain": [
       "TimesPregnant    0.000000\n",
       "glucoseLevel     0.044271\n",
       "BP               0.000000\n",
       "insulin          0.000000\n",
       "BMI              0.000000\n",
       "Pedigree         0.000000\n",
       "Age              0.042969\n",
       "IsDiabetic       0.000000\n",
       "dtype: float64"
      ]
     },
     "execution_count": 4,
     "metadata": {},
     "output_type": "execute_result"
    }
   ],
   "source": [
    "df.isna().sum() / len(df)"
   ]
  },
  {
   "cell_type": "markdown",
   "metadata": {},
   "source": [
    "**3. Split __`data`__  into  __`train_df`__ and __`test_df`__  with 15% as test.**\n"
   ]
  },
  {
   "cell_type": "code",
   "execution_count": 5,
   "metadata": {},
   "outputs": [
    {
     "data": {
      "text/plain": [
       "(768, 653, 115)"
      ]
     },
     "execution_count": 5,
     "metadata": {},
     "output_type": "execute_result"
    }
   ],
   "source": [
    "np.random.seed(999)\n",
    "\n",
    "# idx = np.random.rand(len(df)) < 0.85\n",
    "# train_df, test_df = df[idx], df[~idx]\n",
    "train_df = df.sample(frac=0.85, random_state=999)\n",
    "test_df = df.drop(train_df.index)\n",
    "len(df), len(train_df), len(test_df)"
   ]
  },
  {
   "cell_type": "markdown",
   "metadata": {},
   "source": [
    "**4. Display the means of the features in train and test sets. Replace the null values in  __`train_df`__ and __`test_df`__  with the mean of EACH feature column separately for train and test. Display head of the dataframes.**"
   ]
  },
  {
   "cell_type": "code",
   "execution_count": 6,
   "metadata": {},
   "outputs": [
    {
     "name": "stdout",
     "output_type": "stream",
     "text": [
      "TimesPregnant      3.834609\n",
      "glucoseLevel     120.444623\n",
      "BP                68.758040\n",
      "insulin           77.165391\n",
      "BMI               31.970904\n",
      "Pedigree           0.474689\n",
      "Age               33.494382\n",
      "IsDiabetic         0.349158\n",
      "dtype: float64\n",
      "TimesPregnant      3.904348\n",
      "glucoseLevel     124.225225\n",
      "BP                71.078261\n",
      "insulin           94.756522\n",
      "BMI               32.115652\n",
      "Pedigree           0.455904\n",
      "Age               32.571429\n",
      "IsDiabetic         0.347826\n",
      "dtype: float64\n",
      "\n",
      "Train\n",
      "     TimesPregnant  glucoseLevel  BP  insulin   BMI  Pedigree   Age  \\\n",
      "441              2          83.0  66       50  32.2     0.497  22.0   \n",
      "57               0         100.0  88      110  46.8     0.962  31.0   \n",
      "68               1          95.0  66       38  19.6     0.334  25.0   \n",
      "95               6         144.0  72      228  33.9     0.255  40.0   \n",
      "411              1         112.0  72      176  34.4     0.528  25.0   \n",
      "\n",
      "     IsDiabetic  \n",
      "441           0  \n",
      "57            0  \n",
      "68            0  \n",
      "95            0  \n",
      "411           0  \n",
      "\n",
      "Test\n",
      "    TimesPregnant  glucoseLevel  BP  insulin   BMI  Pedigree        Age  \\\n",
      "2               8    183.000000  64        0  23.3     0.672  32.571429   \n",
      "11             10    168.000000  74        0  38.0     0.537  34.000000   \n",
      "12             10    139.000000  80        0  27.1     1.441  57.000000   \n",
      "14              5    166.000000  72      175  25.8     0.587  51.000000   \n",
      "16              0    124.225225  84      230  45.8     0.551  31.000000   \n",
      "\n",
      "    IsDiabetic  \n",
      "2            1  \n",
      "11           1  \n",
      "12           0  \n",
      "14           1  \n",
      "16           1  \n"
     ]
    }
   ],
   "source": [
    "print(train_df.mean())\n",
    "print(test_df.mean())\n",
    "\n",
    "train_df.fillna(train_df.mean(), inplace=True)\n",
    "test_df.fillna(test_df.mean(), inplace=True)\n",
    "\n",
    "print(\"\\nTrain\")\n",
    "print(train_df.head())\n",
    "print(\"\\nTest\")\n",
    "print(test_df.head())"
   ]
  },
  {
   "cell_type": "markdown",
   "metadata": {},
   "source": [
    "**5. Split __`train_df`__ & __`test_df`__   into  __`X_train`__, __`Y_train`__  and __`X_test`__, __`Y_test`__. __`Y_train`__  and __`Y_test`__ should only have the column we are trying to predict,  __`IsDiabetic`__.**"
   ]
  },
  {
   "cell_type": "code",
   "execution_count": 7,
   "metadata": {},
   "outputs": [
    {
     "name": "stdout",
     "output_type": "stream",
     "text": [
      "X_train\n",
      "     TimesPregnant  glucoseLevel  BP  insulin   BMI  Pedigree   Age\n",
      "441              2          83.0  66       50  32.2     0.497  22.0\n",
      "57               0         100.0  88      110  46.8     0.962  31.0\n",
      "68               1          95.0  66       38  19.6     0.334  25.0\n",
      "95               6         144.0  72      228  33.9     0.255  40.0\n",
      "411              1         112.0  72      176  34.4     0.528  25.0\n",
      "\n",
      "X_test\n",
      "    TimesPregnant  glucoseLevel  BP  insulin   BMI  Pedigree        Age\n",
      "2               8    183.000000  64        0  23.3     0.672  32.571429\n",
      "11             10    168.000000  74        0  38.0     0.537  34.000000\n",
      "12             10    139.000000  80        0  27.1     1.441  57.000000\n",
      "14              5    166.000000  72      175  25.8     0.587  51.000000\n",
      "16              0    124.225225  84      230  45.8     0.551  31.000000\n",
      "\n",
      "y_train\n",
      "441    0\n",
      "57     0\n",
      "68     0\n",
      "95     0\n",
      "411    0\n",
      "Name: IsDiabetic, dtype: int64\n",
      "\n",
      "y_test\n",
      "2     1\n",
      "11    1\n",
      "12    0\n",
      "14    1\n",
      "16    1\n",
      "Name: IsDiabetic, dtype: int64\n"
     ]
    }
   ],
   "source": [
    "X_train, X_test = train_df.drop(\"IsDiabetic\", axis=1), test_df.drop(\"IsDiabetic\", axis=1)\n",
    "y_train, y_test = train_df[\"IsDiabetic\"], test_df[\"IsDiabetic\"]\n",
    "print(\"X_train\")\n",
    "print(X_train.head())\n",
    "print(\"\\nX_test\")\n",
    "print(X_test.head())\n",
    "print(\"\\ny_train\")\n",
    "print(y_train.head())\n",
    "print(\"\\ny_test\")\n",
    "print(y_test.head())"
   ]
  },
  {
   "cell_type": "markdown",
   "metadata": {},
   "source": [
    "**6. Use this dataset to train perceptron, logistic regression and random forest models using 15% test split. Report training and test accuracies. Try different hyperparameter values for these models and see if you can improve your accuracies.**"
   ]
  },
  {
   "cell_type": "code",
   "execution_count": 8,
   "metadata": {},
   "outputs": [
    {
     "name": "stdout",
     "output_type": "stream",
     "text": [
      "Logistic Regression Model Performance:\n",
      "Training Accuracy: 0.7733537519142419\n",
      "Test Accuracy: 0.7565217391304347\n",
      "\n",
      "\n",
      "Optimized Logistic Regression Model Performance:\n",
      "Training Accuracy: 0.77947932618683\n",
      "Test Accuracy: 0.782608695652174\n"
     ]
    }
   ],
   "source": [
    "from sklearn.metrics import accuracy_score, confusion_matrix\n",
    "from sklearn.model_selection import GridSearchCV\n",
    "\n",
    "# 6a. Logistic Regression\n",
    "mod1 = LogisticRegression()\n",
    "mod1.fit(X_train, y_train)\n",
    "\n",
    "print(\"Logistic Regression Model Performance:\")\n",
    "y_pred_train = mod1.predict(X_train)\n",
    "train_rmse = accuracy_score(y_train, y_pred_train)\n",
    "print(\"Training Accuracy: \" + str(train_rmse))\n",
    "y_pred_test = mod1.predict(X_test)\n",
    "test_rmse = accuracy_score(y_test, y_pred_test)\n",
    "print(\"Test Accuracy: \" + str(test_rmse))\n",
    "\n",
    "print(\"\\n\")\n",
    "\n",
    "penalty = ['l1', 'l2']\n",
    "C = np.logspace(0, 5, 10)\n",
    "hyperparameters = dict(C=C, penalty=penalty)\n",
    "clf = GridSearchCV(mod1, hyperparameters, cv=5, verbose=0)\n",
    "mod2 = clf.fit(X_train, y_train) # optimized hyperparameters\n",
    "\n",
    "print(\"Optimized Logistic Regression Model Performance:\")\n",
    "y_pred_train = mod2.predict(X_train)\n",
    "train_rmse = accuracy_score(y_train, y_pred_train)\n",
    "print(\"Training Accuracy: \" + str(train_rmse))\n",
    "y_pred_test = mod2.predict(X_test)\n",
    "test_rmse = accuracy_score(y_test, y_pred_test)\n",
    "print(\"Test Accuracy: \" + str(test_rmse))"
   ]
  },
  {
   "cell_type": "code",
   "execution_count": 9,
   "metadata": {},
   "outputs": [
    {
     "name": "stdout",
     "output_type": "stream",
     "text": [
      "Perceptron Model Performance:\n",
      "Training Accuracy: 0.6447166921898928\n",
      "Test Accuracy: 0.6434782608695652\n"
     ]
    },
    {
     "name": "stderr",
     "output_type": "stream",
     "text": [
      "/Library/Frameworks/Python.framework/Versions/3.6/lib/python3.6/site-packages/sklearn/linear_model/stochastic_gradient.py:128: FutureWarning: max_iter and tol parameters have been added in <class 'sklearn.linear_model.perceptron.Perceptron'> in 0.19. If both are left unset, they default to max_iter=5 and tol=None. If tol is not None, max_iter defaults to max_iter=1000. From 0.21, default max_iter will be 1000, and default tol will be 1e-3.\n",
      "  \"and default tol will be 1e-3.\" % type(self), FutureWarning)\n"
     ]
    },
    {
     "name": "stdout",
     "output_type": "stream",
     "text": [
      "Optimized Perceptron Model Performance:\n",
      "Training Accuracy: 0.6477794793261868\n",
      "Test Accuracy: 0.6521739130434783\n",
      "\n",
      "\n",
      "Multi-Layer Perceptron Model Performance:\n",
      "Training Accuracy: 0.6707503828483921\n",
      "Test Accuracy: 0.6869565217391305\n",
      "\n",
      "\n",
      "Optimized Multi-Layer Perceptron Model Performance:\n",
      "Training Accuracy: 0.7304747320061256\n",
      "Test Accuracy: 0.6869565217391305\n"
     ]
    }
   ],
   "source": [
    "from sklearn.neural_network import MLPClassifier\n",
    "\n",
    "# 6b. Perceptron\n",
    "mod3 = Perceptron()\n",
    "mod3.fit(X_train, y_train)\n",
    "\n",
    "print(\"Perceptron Model Performance:\")\n",
    "y_pred_train = mod3.predict(X_train)\n",
    "train_rmse = accuracy_score(y_train, y_pred_train)\n",
    "print(\"Training Accuracy: \" + str(train_rmse))\n",
    "y_pred_test = mod3.predict(X_test)\n",
    "test_rmse = accuracy_score(y_test, y_pred_test)\n",
    "print(\"Test Accuracy: \" + str(test_rmse))\n",
    "\n",
    "hyperparameters = { 'alpha': [0.0001, 0.05], 'fit_intercept': [True, False],\n",
    "                    'max_iter': [100, 1000], 'penalty': penalty }\n",
    "clf = GridSearchCV(mod3, hyperparameters, cv=5, verbose=0)\n",
    "mod4 = clf.fit(X_train, y_train) # optimized hyperparameters\n",
    "\n",
    "print(\"Optimized Perceptron Model Performance:\")\n",
    "y_pred_train = mod4.predict(X_train)\n",
    "train_rmse = accuracy_score(y_train, y_pred_train)\n",
    "print(\"Training Accuracy: \" + str(train_rmse))\n",
    "y_pred_test = mod4.predict(X_test)\n",
    "test_rmse = accuracy_score(y_test, y_pred_test)\n",
    "print(\"Test Accuracy: \" + str(test_rmse))\n",
    "\n",
    "print(\"\\n\")      \n",
    "    \n",
    "# 6b. Multi-Layer Perceptron\n",
    "mod3 = MLPClassifier()\n",
    "mod3.fit(X_train, y_train)\n",
    "\n",
    "print(\"Multi-Layer Perceptron Model Performance:\")\n",
    "y_pred_train = mod3.predict(X_train)\n",
    "train_rmse = accuracy_score(y_train, y_pred_train)\n",
    "print(\"Training Accuracy: \" + str(train_rmse))\n",
    "y_pred_test = mod3.predict(X_test)\n",
    "test_rmse = accuracy_score(y_test, y_pred_test)\n",
    "print(\"Test Accuracy: \" + str(test_rmse))\n",
    "\n",
    "print(\"\\n\")\n",
    "\n",
    "hyperparameters = { 'hidden_layer_sizes': [(50,50,50), (50,100,50), (100,)], \n",
    "                    'alpha': [0.0001, 0.05], 'activation': ['tanh', 'relu'],\n",
    "                    'learning_rate': ['constant','adaptive'] }\n",
    "clf = GridSearchCV(mod3, hyperparameters, cv=5, verbose=0)\n",
    "mod4 = clf.fit(X_train, y_train) # optimized hyperparameters\n",
    "\n",
    "print(\"Optimized Multi-Layer Perceptron Model Performance:\")\n",
    "y_pred_train = mod4.predict(X_train)\n",
    "train_rmse = accuracy_score(y_train, y_pred_train)\n",
    "print(\"Training Accuracy: \" + str(train_rmse))\n",
    "y_pred_test = mod4.predict(X_test)\n",
    "test_rmse = accuracy_score(y_test, y_pred_test)\n",
    "print(\"Test Accuracy: \" + str(test_rmse))"
   ]
  },
  {
   "cell_type": "code",
   "execution_count": 10,
   "metadata": {},
   "outputs": [
    {
     "name": "stdout",
     "output_type": "stream",
     "text": [
      "Random Forest Model Performance:\n",
      "Training Accuracy: 0.9862174578866769\n",
      "Test Accuracy: 0.7652173913043478\n",
      "\n",
      "\n",
      "Optimized Random Forest Model Performance:\n",
      "Training Accuracy: 0.9831546707503829\n",
      "Test Accuracy: 0.7913043478260869\n"
     ]
    }
   ],
   "source": [
    "# 6c. Random Forest\n",
    "mod5 = RandomForestClassifier()\n",
    "mod5.fit(X_train, y_train)\n",
    "\n",
    "print(\"Random Forest Model Performance:\")\n",
    "y_pred_train = mod5.predict(X_train)\n",
    "train_rmse = accuracy_score(y_train, y_pred_train)\n",
    "print(\"Training Accuracy: \" + str(train_rmse))\n",
    "y_pred_test = mod5.predict(X_test)\n",
    "test_rmse = accuracy_score(y_test, y_pred_test)\n",
    "print(\"Test Accuracy: \" + str(test_rmse))\n",
    "\n",
    "print(\"\\n\")\n",
    "\n",
    "max_depth = [int(x) for x in np.linspace(10, 110, num = 5)]\n",
    "max_depth.append(None)\n",
    "hyperparameters = { 'max_depth': max_depth, 'min_samples_split': [2, 5, 10],\n",
    "                    'max_features': ['auto', 'sqrt'], 'bootstrap': [True, False] }\n",
    "clf = GridSearchCV(mod5, hyperparameters, cv=5, verbose=0)\n",
    "mod6 = clf.fit(X_train, y_train) # optimized hyperparameters\n",
    "\n",
    "print(\"Optimized Random Forest Model Performance:\")\n",
    "y_pred_train = mod6.predict(X_train)\n",
    "train_rmse = accuracy_score(y_train, y_pred_train)\n",
    "print(\"Training Accuracy: \" + str(train_rmse))\n",
    "y_pred_test = mod6.predict(X_test)\n",
    "test_rmse = accuracy_score(y_test, y_pred_test)\n",
    "print(\"Test Accuracy: \" + str(test_rmse))"
   ]
  },
  {
   "cell_type": "markdown",
   "metadata": {},
   "source": [
    "**7. For your logistic regression model - **\n",
    "\n",
    "**a . Compute the log probability of classes in  __`IsDiabetic`__ for the first 10 samples of your train set and display it. Also display the predicted class for those samples from your logistic regression model trained before. **\n"
   ]
  },
  {
   "cell_type": "code",
   "execution_count": 11,
   "metadata": {},
   "outputs": [
    {
     "name": "stdout",
     "output_type": "stream",
     "text": [
      "Log Probabilities for first 10 training samples\n",
      "[[-0.0795963  -2.57032189]\n",
      " [-0.45018631 -1.01475664]\n",
      " [-0.03334802 -3.41738442]\n",
      " [-0.76194222 -0.62878179]\n",
      " [-0.20794316 -1.67266106]\n",
      " [-1.13052689 -0.38988181]\n",
      " [-0.04600159 -3.10199196]\n",
      " [-0.12242993 -2.16080692]\n",
      " [-0.10207376 -2.33266235]\n",
      " [-0.03616457 -3.33770305]]\n",
      "\n",
      "\n",
      "Predicted Class for first 10 training samples\n",
      "[0 0 0 1 0 1 0 0 0 0]\n"
     ]
    }
   ],
   "source": [
    "print(\"Log Probabilities for first 10 training samples\")\n",
    "print(mod2.predict_log_proba(X_train)[:10])\n",
    "print(\"\\n\")\n",
    "print(\"Predicted Class for first 10 training samples\")\n",
    "print(mod2.predict(X_train)[:10])"
   ]
  },
  {
   "cell_type": "markdown",
   "metadata": {},
   "source": [
    "**b . Now compute the log probability of classes in  __`IsDiabetic`__ for the first 10 samples of your test set and display it. Also display the predicted class for those samples from your logistic regression model trained before.\n",
    " (using the model trained on the training set)**\n"
   ]
  },
  {
   "cell_type": "code",
   "execution_count": 12,
   "metadata": {},
   "outputs": [
    {
     "name": "stdout",
     "output_type": "stream",
     "text": [
      "Log Probabilities for first 10 training samples\n",
      "[[-1.63359437 -0.21719453]\n",
      " [-2.18604515 -0.11918929]\n",
      " [-1.74734353 -0.19144648]\n",
      " [-1.11840579 -0.39571336]\n",
      " [-0.56430783 -0.84107586]\n",
      " [-2.67552943 -0.07135676]\n",
      " [-0.3046589  -1.33702754]\n",
      " [-2.66660708 -0.07201987]\n",
      " [-0.43038092 -1.05056912]\n",
      " [-0.06876545 -2.71123949]]\n",
      "\n",
      "\n",
      "Predicted Class for first 10 training samples\n",
      "[1 1 1 1 0 1 0 1 0 0]\n"
     ]
    }
   ],
   "source": [
    "print(\"Log Probabilities for first 10 training samples\")\n",
    "print(mod2.predict_log_proba(X_test)[:10])\n",
    "print(\"\\n\")\n",
    "print(\"Predicted Class for first 10 training samples\")\n",
    "print(mod2.predict(X_test)[:10])"
   ]
  },
  {
   "cell_type": "markdown",
   "metadata": {},
   "source": [
    "**c . What can you interpret from the log probabilities and the predicted classes?**\n",
    "\n"
   ]
  },
  {
   "cell_type": "markdown",
   "metadata": {},
   "source": [
    "In the outputs above, the first column represents the log probability that the sample is of class 0 [ `IsDiabetic` = 0 ], while the second column represents the log probability that the sample is of class 1 [ `IsDiabetic` = 1 ]. The  probability that a sample is of a certain class is computed using the formula: \n",
    "\n",
    "$$P(\\,\\text{sample}_j \\text{is not diabetic}) = e^{\\,a[j][0]} \\,\\,|\\,\\, P(\\,\\text{sample}_j \\text{is diabetic}) = e^{\\,a[j][1]} \\\\ \\text{for the }j^{th}\\text{ sample, and } a \\text{ is the array displayed above}$$\n",
    "\n",
    "The predicted class corresponds to the column with the higher log probability (and consequently, higher probability) value – or in other words, whichever log probability value is closer to 0 since all log probability values are negative. This can be confirmed by observing the outputs above."
   ]
  },
  {
   "cell_type": "markdown",
   "metadata": {},
   "source": [
    "**8. Is mean imputation is the best type of imputation (as we did in 4.) to use? Why or why not? What are some other ways to impute the data?**"
   ]
  },
  {
   "cell_type": "markdown",
   "metadata": {},
   "source": [
    "Mean imputation is not the best type of imputation to use. This is because it often does not preserve relationships between variables (imputed values have zero correlation with other variables), presents biased metrics of standard error and variance, and can result in a biased sample mean. The only advantage is that it preserves the sample size. Some other ways to impute the data include hot-deck imputation, cold-deck imputation, regression imputation, and multiple imputation (ex: MICE, using chained equations, for when data is randomly missing)."
   ]
  },
  {
   "cell_type": "markdown",
   "metadata": {},
   "source": [
    "## Extra Credit (2 pts) - MANDATORY for students enrolled in IEOR 290"
   ]
  },
  {
   "cell_type": "markdown",
   "metadata": {},
   "source": [
    "\n",
    "**9.  Implement the K-Nearest Neighbours (https://en.wikipedia.org/wiki/K-nearest_neighbors_algorithm) algorithm for k=1 from scratch in python (do not use KNN from existing libraries). KNN uses Euclidean distance to find nearest neighbors. Split your dataset into test and train as before. Also fill in the null values with mean of features as done earlier. Use this algorithm to predict values for 'IsDiabetic' for your test set. Display your accuracy. **"
   ]
  },
  {
   "cell_type": "code",
   "execution_count": 13,
   "metadata": {},
   "outputs": [
    {
     "name": "stdout",
     "output_type": "stream",
     "text": [
      "MANUAL IMPLEMENTATION | K-Nearest Neighbors Model Performance:\n",
      "Training Accuracy: 1.0\n",
      "Test Accuracy: 0.6956521739130435\n"
     ]
    }
   ],
   "source": [
    "# K-Nearest Neighbors Classifier for k=1\n",
    "class KNN_Classifier():\n",
    "    def fit(self, X_train, y_train):\n",
    "        self.X_train = X_train\n",
    "        self.y_train = y_train\n",
    "        \n",
    "    def euclidean_dist(self, x1, x2):\n",
    "        distance = 0\n",
    "        for i in range(len(x1)):\n",
    "            distance = distance + (x1[i] - x2[i])**2\n",
    "        return distance\n",
    "    \n",
    "    def k_nearest(self, row, k=1):\n",
    "        best_dist = self.euclidean_dist(row, self.X_train[0])\n",
    "        best_idx = 0\n",
    "        for i in range(k, len(self.X_train)):\n",
    "            dist = self.euclidean_dist(row, self.X_train[i])\n",
    "            if dist < best_dist:\n",
    "                best_dist = dist\n",
    "                best_idx = i\n",
    "        return self.y_train[best_idx]\n",
    "\n",
    "    def predict(self, X_test, k=1):\n",
    "        result = []\n",
    "        for row in X_test:\n",
    "            label = self.k_nearest(row, k)\n",
    "            result.append(label)\n",
    "        return result\n",
    "\n",
    "mod7 = KNN_Classifier()\n",
    "mod7.fit(X_train.values, y_train.values)\n",
    "\n",
    "print(\"MANUAL IMPLEMENTATION | K-Nearest Neighbors Model Performance:\")\n",
    "y_pred_train = mod7.predict(X_train.values)\n",
    "train_rmse = accuracy_score(y_train, y_pred_train)\n",
    "print(\"Training Accuracy: \" + str(train_rmse))\n",
    "y_pred_test = mod7.predict(X_test.values)\n",
    "test_rmse = accuracy_score(y_test, y_pred_test)\n",
    "print(\"Test Accuracy: \" + str(test_rmse))"
   ]
  },
  {
   "cell_type": "code",
   "execution_count": 14,
   "metadata": {},
   "outputs": [
    {
     "name": "stdout",
     "output_type": "stream",
     "text": [
      "SKLEARN IMPLEMENTATION | K-Nearest Neighbors Model Performance:\n",
      "Training Accuracy: 1.0\n",
      "Test Accuracy: 0.6956521739130435\n"
     ]
    }
   ],
   "source": [
    "# Checking Implementation against SciKitLearn Library Implementation \n",
    "from sklearn.neighbors import KNeighborsClassifier\n",
    "\n",
    "mod8 = KNeighborsClassifier(n_neighbors=1) \n",
    "mod8.fit(X_train, y_train)\n",
    "\n",
    "print(\"SKLEARN IMPLEMENTATION | K-Nearest Neighbors Model Performance:\")\n",
    "y_pred_train = mod8.predict(X_train.values)\n",
    "train_rmse = accuracy_score(y_train, y_pred_train)\n",
    "print(\"Training Accuracy: \" + str(train_rmse))\n",
    "y_pred_test = mod8.predict(X_test.values)\n",
    "test_rmse = accuracy_score(y_test, y_pred_test)\n",
    "print(\"Test Accuracy: \" + str(test_rmse))"
   ]
  },
  {
   "cell_type": "code",
   "execution_count": null,
   "metadata": {},
   "outputs": [],
   "source": []
  }
 ],
 "metadata": {
  "kernel_info": {
   "name": "data-x"
  },
  "kernelspec": {
   "display_name": "Python 3",
   "language": "python",
   "name": "python3"
  },
  "language_info": {
   "codemirror_mode": {
    "name": "ipython",
    "version": 3
   },
   "file_extension": ".py",
   "mimetype": "text/x-python",
   "name": "python",
   "nbconvert_exporter": "python",
   "pygments_lexer": "ipython3",
   "version": "3.6.5"
  },
  "nteract": {
   "version": "0.7.1"
  }
 },
 "nbformat": 4,
 "nbformat_minor": 2
}
