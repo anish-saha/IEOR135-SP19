{
 "cells": [
  {
   "cell_type": "markdown",
   "metadata": {},
   "source": [
    "# Data-X Spring 2019: Homework 05\n",
    "\n",
    "### Linear regression & Logistic regression\n",
    "\n",
    "\n",
    "\n",
    "## Name:\n",
    "\n",
    "Anish Saha\n",
    "\n",
    "## SID: \n",
    "\n",
    "26071616\n",
    "\n",
    "\n",
    "In this homework, you will do some exercises on prediction using sklearn. \n",
    "\n",
    "REMEMBER TO DISPLAY ALL OUTPUTS. If the question asks you to do something, make sure to print your results.\n"
   ]
  },
  {
   "cell_type": "markdown",
   "metadata": {},
   "source": [
    "## Part 1 - Regression"
   ]
  },
  {
   "cell_type": "markdown",
   "metadata": {},
   "source": [
    "\n",
    "### Data:\n",
    "__Data Source__:\n",
    "Data file is uploaded to bCourses and is named: __Energy.csv__ \n",
    "(Link in the Assignment details page on Bcourses) \n",
    "\n",
    "The dataset was created by Angeliki Xifara ( Civil/Structural Engineer) and was processed by Athanasios Tsanas, Oxford Centre for Industrial and Applied Mathematics, University of Oxford, UK).\n",
    "\n",
    "__Data Description__:\n",
    "\n",
    "The dataset contains eight attributes of a building (or features, denoted by X1...X8) and response being the heating load on the building, y1. \n",
    "\n",
    "* X1\tRelative Compactness \n",
    "* X2\tSurface Area \n",
    "* X3\tWall Area \n",
    "*  X4\tRoof Area \n",
    "*  X5\tOverall Height \n",
    "* X6\tOrientation \n",
    "*  X7\tGlazing Area \n",
    "*  X8\tGlazing Area Distribution \n",
    "*  y1\tHeating Load \n"
   ]
  },
  {
   "cell_type": "code",
   "execution_count": 1,
   "metadata": {},
   "outputs": [],
   "source": [
    "import pandas as pd\n",
    "import numpy as np\n",
    "import seaborn as sns\n",
    "import matplotlib.pyplot as plt"
   ]
  },
  {
   "cell_type": "markdown",
   "metadata": {},
   "source": [
    "#### Q1.1\n",
    "Read the data file from the csv.\n",
    "\n",
    "Print the count of NaN values for each attribute in the dataset.\n",
    "\n",
    "Print the Range (min, max) and percentiles (25th, 50th, and 75th) of each attribute in the dataset"
   ]
  },
  {
   "cell_type": "code",
   "execution_count": 2,
   "metadata": {},
   "outputs": [
    {
     "data": {
      "text/html": [
       "<div>\n",
       "<style scoped>\n",
       "    .dataframe tbody tr th:only-of-type {\n",
       "        vertical-align: middle;\n",
       "    }\n",
       "\n",
       "    .dataframe tbody tr th {\n",
       "        vertical-align: top;\n",
       "    }\n",
       "\n",
       "    .dataframe thead th {\n",
       "        text-align: right;\n",
       "    }\n",
       "</style>\n",
       "<table border=\"1\" class=\"dataframe\">\n",
       "  <thead>\n",
       "    <tr style=\"text-align: right;\">\n",
       "      <th></th>\n",
       "      <th>X1</th>\n",
       "      <th>X2</th>\n",
       "      <th>X3</th>\n",
       "      <th>X4</th>\n",
       "      <th>X5</th>\n",
       "      <th>X6</th>\n",
       "      <th>X7</th>\n",
       "      <th>X8</th>\n",
       "      <th>Y1</th>\n",
       "    </tr>\n",
       "  </thead>\n",
       "  <tbody>\n",
       "    <tr>\n",
       "      <th>count</th>\n",
       "      <td>768.000000</td>\n",
       "      <td>768.000000</td>\n",
       "      <td>768.000000</td>\n",
       "      <td>768.000000</td>\n",
       "      <td>768.00000</td>\n",
       "      <td>768.000000</td>\n",
       "      <td>768.000000</td>\n",
       "      <td>768.00000</td>\n",
       "      <td>768.000000</td>\n",
       "    </tr>\n",
       "    <tr>\n",
       "      <th>mean</th>\n",
       "      <td>0.764167</td>\n",
       "      <td>671.708333</td>\n",
       "      <td>318.500000</td>\n",
       "      <td>176.604167</td>\n",
       "      <td>5.25000</td>\n",
       "      <td>3.500000</td>\n",
       "      <td>0.234375</td>\n",
       "      <td>2.81250</td>\n",
       "      <td>22.307201</td>\n",
       "    </tr>\n",
       "    <tr>\n",
       "      <th>std</th>\n",
       "      <td>0.105777</td>\n",
       "      <td>88.086116</td>\n",
       "      <td>43.626481</td>\n",
       "      <td>45.165950</td>\n",
       "      <td>1.75114</td>\n",
       "      <td>1.118763</td>\n",
       "      <td>0.133221</td>\n",
       "      <td>1.55096</td>\n",
       "      <td>10.090196</td>\n",
       "    </tr>\n",
       "    <tr>\n",
       "      <th>min</th>\n",
       "      <td>0.620000</td>\n",
       "      <td>514.500000</td>\n",
       "      <td>245.000000</td>\n",
       "      <td>110.250000</td>\n",
       "      <td>3.50000</td>\n",
       "      <td>2.000000</td>\n",
       "      <td>0.000000</td>\n",
       "      <td>0.00000</td>\n",
       "      <td>6.010000</td>\n",
       "    </tr>\n",
       "    <tr>\n",
       "      <th>25%</th>\n",
       "      <td>0.682500</td>\n",
       "      <td>606.375000</td>\n",
       "      <td>294.000000</td>\n",
       "      <td>140.875000</td>\n",
       "      <td>3.50000</td>\n",
       "      <td>2.750000</td>\n",
       "      <td>0.100000</td>\n",
       "      <td>1.75000</td>\n",
       "      <td>12.992500</td>\n",
       "    </tr>\n",
       "    <tr>\n",
       "      <th>50%</th>\n",
       "      <td>0.750000</td>\n",
       "      <td>673.750000</td>\n",
       "      <td>318.500000</td>\n",
       "      <td>183.750000</td>\n",
       "      <td>5.25000</td>\n",
       "      <td>3.500000</td>\n",
       "      <td>0.250000</td>\n",
       "      <td>3.00000</td>\n",
       "      <td>18.950000</td>\n",
       "    </tr>\n",
       "    <tr>\n",
       "      <th>75%</th>\n",
       "      <td>0.830000</td>\n",
       "      <td>741.125000</td>\n",
       "      <td>343.000000</td>\n",
       "      <td>220.500000</td>\n",
       "      <td>7.00000</td>\n",
       "      <td>4.250000</td>\n",
       "      <td>0.400000</td>\n",
       "      <td>4.00000</td>\n",
       "      <td>31.667500</td>\n",
       "    </tr>\n",
       "    <tr>\n",
       "      <th>max</th>\n",
       "      <td>0.980000</td>\n",
       "      <td>808.500000</td>\n",
       "      <td>416.500000</td>\n",
       "      <td>220.500000</td>\n",
       "      <td>7.00000</td>\n",
       "      <td>5.000000</td>\n",
       "      <td>0.400000</td>\n",
       "      <td>5.00000</td>\n",
       "      <td>43.100000</td>\n",
       "    </tr>\n",
       "  </tbody>\n",
       "</table>\n",
       "</div>"
      ],
      "text/plain": [
       "               X1          X2          X3          X4         X5          X6  \\\n",
       "count  768.000000  768.000000  768.000000  768.000000  768.00000  768.000000   \n",
       "mean     0.764167  671.708333  318.500000  176.604167    5.25000    3.500000   \n",
       "std      0.105777   88.086116   43.626481   45.165950    1.75114    1.118763   \n",
       "min      0.620000  514.500000  245.000000  110.250000    3.50000    2.000000   \n",
       "25%      0.682500  606.375000  294.000000  140.875000    3.50000    2.750000   \n",
       "50%      0.750000  673.750000  318.500000  183.750000    5.25000    3.500000   \n",
       "75%      0.830000  741.125000  343.000000  220.500000    7.00000    4.250000   \n",
       "max      0.980000  808.500000  416.500000  220.500000    7.00000    5.000000   \n",
       "\n",
       "               X7         X8          Y1  \n",
       "count  768.000000  768.00000  768.000000  \n",
       "mean     0.234375    2.81250   22.307201  \n",
       "std      0.133221    1.55096   10.090196  \n",
       "min      0.000000    0.00000    6.010000  \n",
       "25%      0.100000    1.75000   12.992500  \n",
       "50%      0.250000    3.00000   18.950000  \n",
       "75%      0.400000    4.00000   31.667500  \n",
       "max      0.400000    5.00000   43.100000  "
      ]
     },
     "execution_count": 2,
     "metadata": {},
     "output_type": "execute_result"
    }
   ],
   "source": [
    "df = pd.read_csv('Energy.csv')\n",
    "df.describe()"
   ]
  },
  {
   "cell_type": "markdown",
   "metadata": {},
   "source": [
    " __REGRESSION__:\n",
    "\n",
    "Using the data, we want to predict \"Heating load\". The output variable is continuous. Hence, we need to use a regression algorithm.  \n",
    "\n",
    "__Q 1.2:__ \n",
    "\n",
    "Split the dataset randomly into train and test. Train a **Linear Regression** model on 80% of the data (80-20 split).\n",
    "What is the intercept and coefficient values?\n",
    "\n"
   ]
  },
  {
   "cell_type": "code",
   "execution_count": 3,
   "metadata": {},
   "outputs": [
    {
     "name": "stdout",
     "output_type": "stream",
     "text": [
      "Intercept: 77.18090177133655\n",
      "Coefficients: [-6.06972101e+01 -8.43455980e+11  8.43455980e+11  1.68691196e+12\n",
      "  4.44633751e+00 -9.38715046e-02  2.04619723e+01  2.24009596e-01]\n"
     ]
    },
    {
     "name": "stderr",
     "output_type": "stream",
     "text": [
      "/Library/Frameworks/Python.framework/Versions/3.6/lib/python3.6/site-packages/sklearn/linear_model/base.py:509: RuntimeWarning: internal gelsd driver lwork query error, required iwork dimension not returned. This is likely the result of LAPACK bug 0038, fixed in LAPACK 3.2.2 (released July 21, 2010). Falling back to 'gelss' driver.\n",
      "  linalg.lstsq(X, y)\n"
     ]
    }
   ],
   "source": [
    "from sklearn import linear_model\n",
    "\n",
    "np.random.seed(999)\n",
    "\n",
    "idx = np.random.rand(len(df)) < 0.8\n",
    "train, test = df[idx], df[~idx]\n",
    "X_train, X_test = train.drop(\"Y1\", axis=1), test.drop(\"Y1\", axis=1)\n",
    "y_train, y_test = train[\"Y1\"], test[\"Y1\"]\n",
    "\n",
    "mod1 = linear_model.LinearRegression()\n",
    "mod1.fit(X_train, y_train)\n",
    "print(\"Intercept: \" + str(mod1.intercept_))\n",
    "print(\"Coefficients: \" + str(mod1.coef_))"
   ]
  },
  {
   "cell_type": "markdown",
   "metadata": {
    "collapsed": true
   },
   "source": [
    "\n",
    "#### Q.1.3: \n",
    "\n",
    "Create a function which takes arrays of prediction and actual values of the output as parameters to calculate **'Root Mean Square error'** (RMSE) metric:  \n",
    "\n",
    "1. Use the function to calculate the training RMSE  \n",
    "2. Use the function to calculate the test RMSE\n",
    "\n"
   ]
  },
  {
   "cell_type": "code",
   "execution_count": 4,
   "metadata": {},
   "outputs": [
    {
     "name": "stdout",
     "output_type": "stream",
     "text": [
      "Training RMSE: 2.86703272667715\n",
      "Test RMSE: 3.231721035308233\n"
     ]
    }
   ],
   "source": [
    "from sklearn.metrics import mean_squared_error\n",
    "\n",
    "y_pred_train = mod1.predict(X_train)\n",
    "train_rmse = np.sqrt(mean_squared_error(y_train, y_pred_train))\n",
    "print(\"Training RMSE: \" + str(train_rmse))\n",
    "\n",
    "y_pred_test = mod1.predict(X_test)\n",
    "test_rmse = np.sqrt(mean_squared_error(y_test, y_pred_test))\n",
    "print(\"Test RMSE: \" + str(test_rmse))"
   ]
  },
  {
   "cell_type": "markdown",
   "metadata": {},
   "source": [
    "\n",
    "#### Q1.4: \n",
    "\n",
    "Let's see the effect of amount of data on the performance of prediction model. Use varying amounts of data (100,200,300,400,500,all) from the training data you used previously to train different regression models. Report  training error and test error in each case. Test data  is the same as above for  all  these cases.\n",
    "\n",
    "**Plot error rates vs number of training examples.** Both the training error and the test error should be plotted. Comment on the relationship you observe between the amount of data used to train the model and the test accuracy of the model.\n",
    "\n",
    "__Hint:__ Use array indexing to choose varying data amounts"
   ]
  },
  {
   "cell_type": "code",
   "execution_count": 5,
   "metadata": {},
   "outputs": [
    {
     "name": "stdout",
     "output_type": "stream",
     "text": [
      "Size of Training Data: 100\n",
      "Training RMSE: 2.6361265923502972\n",
      "Test RMSE: 9.315042731052332\n",
      "\n",
      "\n",
      "Size of Training Data: 200\n",
      "Training RMSE: 2.621991015495057\n",
      "Test RMSE: 9.825236973945165\n",
      "\n",
      "\n",
      "Size of Training Data: 300\n",
      "Training RMSE: 2.6657434978225845\n",
      "Test RMSE: 7.161778779514564\n",
      "\n",
      "\n",
      "Size of Training Data: 400\n",
      "Training RMSE: 2.8752517019693817\n",
      "Test RMSE: 3.814014906549762\n",
      "\n",
      "\n",
      "Size of Training Data: 500\n",
      "Training RMSE: 2.963495153233195\n",
      "Test RMSE: 3.098713834811911\n",
      "\n",
      "\n",
      "Size of Training Data: 767\n",
      "Training RMSE: 2.9285601420571594\n",
      "Test RMSE: 2.54958930899609\n",
      "\n",
      "\n"
     ]
    },
    {
     "data": {
      "text/plain": [
       "Text(0.5,1,'Plot of Performance of Linear Regression Prediction Model vs. Size of Training Data \\n')"
      ]
     },
     "execution_count": 5,
     "metadata": {},
     "output_type": "execute_result"
    },
    {
     "data": {
      "image/png": "[encoded data removed]",
      "text/plain": [
       "<Figure size 432x288 with 1 Axes>"
      ]
     },
     "metadata": {},
     "output_type": "display_data"
    }
   ],
   "source": [
    "train_err, test_err = [], []\n",
    "train_len = [100, 200, 300, 400, 500, int(len(df)-1)]\n",
    "\n",
    "for i in train_len:\n",
    "    print(\"Size of Training Data: \" + str(i))\n",
    "    train, test = df[:i], df[i:]\n",
    "    X_train, X_test = train.drop(\"Y1\", axis=1), test.drop(\"Y1\", axis=1)\n",
    "    y_train, y_test = train[\"Y1\"], test[\"Y1\"]\n",
    "    mod = linear_model.LinearRegression()\n",
    "    mod.fit(X_train, y_train)\n",
    "    \n",
    "    y_pred_train = mod.predict(X_train)\n",
    "    train_rmse = np.sqrt(mean_squared_error(y_train, y_pred_train))\n",
    "    print(\"Training RMSE: \" + str(train_rmse))\n",
    "    y_pred_test = mod.predict(X_test)\n",
    "    test_rmse = np.sqrt(mean_squared_error(y_test, y_pred_test))\n",
    "    print(\"Test RMSE: \" + str(test_rmse))\n",
    "    train_err.append(train_rmse)\n",
    "    test_err.append(test_rmse)\n",
    "    print(\"\\n\")\n",
    "    \n",
    "plt.plot(train_len, train_err, c='g', marker=\".\")\n",
    "plt.plot(train_len, test_err, c='r', marker=\".\")\n",
    "plt.legend([\"Training Error\", \"Test Error\"])\n",
    "plt.xlabel(\"Size of Training Data\")\n",
    "plt.ylabel(\"Root Mean Squared Error (RMSE)\")\n",
    "plt.title(\"Plot of Performance of Linear Regression Prediction Model vs. Size of Training Data \\n\")"
   ]
  },
  {
   "cell_type": "markdown",
   "metadata": {},
   "source": [
    "## Part 2 - Classification"
   ]
  },
  {
   "cell_type": "markdown",
   "metadata": {},
   "source": [
    "\n",
    "__CLASSIFICATION__:\n",
    "LABELS ARE DISCRETE VALUES.\n",
    "\n",
    "Here the model is trained to classify each instance into a set of predefined discrete classes. On inputting a feature vector into the model, the trained model is able to predict a class of that instance.\n",
    "\n",
    "\n",
    "#### Q2.1\n",
    "Bucket the values of 'y1' i.e 'Heating Load'  from the original dataset into 3 classes:\n",
    "\n",
    "0: 'Low' ( < 14),   \n",
    "1: 'Medium'  (14-28),   \n",
    "2: 'High'  (>28)\n",
    "\n",
    "**HINT:** Use pandas.cut\n",
    "\n",
    "This converts the given dataset  into a classification problem. Use this dataset with transformed 'heating load' to create a **logistic regression** classifiction model that predicts heating load type of a building. Split the data randomly into training and test set. Train the model on 80% of the data (80-20 split).\n"
   ]
  },
  {
   "cell_type": "code",
   "execution_count": 6,
   "metadata": {},
   "outputs": [
    {
     "name": "stdout",
     "output_type": "stream",
     "text": [
      "Intercept: [-0.94819598 -0.06907307 -0.42706064]\n",
      "Coefficients: [[-1.80516165e+00 -1.49584151e-02  3.15221006e-02 -2.32402579e-02\n",
      "   5.55021886e-01 -1.02228080e-01  5.16507156e+00  2.11728770e-01]\n",
      " [-1.16819523e-01  1.38213679e-02 -3.43761046e-02  2.40987363e-02\n",
      "  -9.18816402e-01  2.12554847e-02 -6.30459170e+00  1.44453537e-02]\n",
      " [-1.97810161e-01  8.68535789e-04  2.51658727e-04  3.08438531e-04\n",
      "  -1.30192761e-01  2.52686721e-03  9.84267917e-01 -1.22539882e-01]]\n"
     ]
    }
   ],
   "source": [
    "np.random.seed(333)\n",
    "\n",
    "df[\"Y1\"] = pd.cut(df[\"Y1\"], bins=[0, 14, 28, np.inf], labels=['Low','Medium','High'])\n",
    "idx = np.random.rand(len(df)) < 0.8\n",
    "train, test = df[idx], df[~idx]\n",
    "X_train, X_test = train.drop(\"Y1\", axis=1), test.drop(\"Y1\", axis=1)\n",
    "y_train, y_test = train[\"Y1\"], test[\"Y1\"]\n",
    "\n",
    "mod2 = linear_model.LogisticRegression()\n",
    "mod2.fit(X_train, y_train)\n",
    "print(\"Intercept: \" + str(mod2.intercept_))\n",
    "print(\"Coefficients: \" + str(mod2.coef_))"
   ]
  },
  {
   "cell_type": "markdown",
   "metadata": {},
   "source": [
    "#### Q2.2 \n",
    "- Print the training and test accuracies\n",
    "- Print the confusion matrix\n",
    "- Print the precision and recall numbers for all the classes\n"
   ]
  },
  {
   "cell_type": "code",
   "execution_count": 7,
   "metadata": {},
   "outputs": [
    {
     "name": "stdout",
     "output_type": "stream",
     "text": [
      "Training Accuracy: 0.7974068071312804\n",
      "Test Accuracy: 0.7947019867549668\n",
      "\n",
      "\n",
      "Confusion Matrix: \n",
      "[[59  0  3]\n",
      " [ 0 34  2]\n",
      " [15 11 27]]\n",
      "\n",
      "\n",
      "Precision for 'Low' Class: 0.7972972972972973\n",
      "Recall for 'Low' Class: 0.7555555555555555\n",
      "Precision for 'Medium' Class: 0.9516129032258065\n",
      "Recall for 'Medium' Class: 0.9444444444444444\n",
      "Precision for 'High' Class: 0.8676470588235293\n",
      "Recall for 'High' Class: 0.8395061728395062\n"
     ]
    }
   ],
   "source": [
    "from sklearn.metrics import accuracy_score, confusion_matrix\n",
    "from sklearn.metrics import precision_recall_fscore_support\n",
    "\n",
    "y_pred_train = mod2.predict(X_train)\n",
    "train_rmse = accuracy_score(y_train, y_pred_train)\n",
    "print(\"Training Accuracy: \" + str(train_rmse))\n",
    "\n",
    "y_pred_test = mod2.predict(X_test)\n",
    "test_rmse = accuracy_score(y_test, y_pred_test)\n",
    "print(\"Test Accuracy: \" + str(test_rmse))\n",
    "\n",
    "print(\"\\n\\nConfusion Matrix: \")\n",
    "print(confusion_matrix(y_test, y_pred_test))\n",
    "\n",
    "print(\"\\n\")\n",
    "arr = precision_recall_fscore_support(y_test, y_pred_test)\n",
    "print(\"Precision for 'Low' Class: \" + str(arr[0][0]))\n",
    "print(\"Recall for 'Low' Class: \" + str(arr[0][1]))\n",
    "print(\"Precision for 'Medium' Class: \" + str(arr[1][0]))\n",
    "print(\"Recall for 'Medium' Class: \" + str(arr[1][1]))\n",
    "print(\"Precision for 'High' Class: \" + str(arr[2][0]))\n",
    "print(\"Recall for 'High' Class: \" + str(arr[2][1]))"
   ]
  },
  {
   "cell_type": "markdown",
   "metadata": {},
   "source": [
    "#### Q2.3\n",
    "##### K Fold Cross Validation\n",
    "\n",
    " In k-fold cross-validation, the shuffled training data is partitioned into k disjoint sets and the model is trained on k −1 sets and validated on the kth set. This process is repeated k times with each set chosen as the validation set once. The cross-validation accuracy is reported as the average accuracy of the k iterations\n",
    " \n",
    "__Use 7-fold cross validation on the training data. Print the average accuracy__"
   ]
  },
  {
   "cell_type": "code",
   "execution_count": 8,
   "metadata": {},
   "outputs": [
    {
     "name": "stdout",
     "output_type": "stream",
     "text": [
      "Running 7-Fold Cross Validation...\n",
      "\n",
      "Training Accuracy: 0.817629179331307\n",
      "Test Accuracy: 0.6727272727272727\n",
      "Training Accuracy: 0.8145896656534954\n",
      "Test Accuracy: 0.6909090909090909\n",
      "Training Accuracy: 0.7993920972644377\n",
      "Test Accuracy: 0.7818181818181819\n",
      "Training Accuracy: 0.7796352583586627\n",
      "Test Accuracy: 0.9\n",
      "Training Accuracy: 0.7857142857142857\n",
      "Test Accuracy: 0.8636363636363636\n",
      "Training Accuracy: 0.7936267071320182\n",
      "Test Accuracy: 0.8165137614678899\n",
      "Training Accuracy: 0.787556904400607\n",
      "Test Accuracy: 0.8532110091743119\n",
      "\n",
      "Training Set Cross-Validation Accuracy: 0.7968777282649734\n",
      "\n",
      "Test Set Cross-Validation Accuracy: 0.7969736685333016\n"
     ]
    }
   ],
   "source": [
    "from sklearn.model_selection import KFold\n",
    "\n",
    "df = pd.read_csv('Energy.csv')\n",
    "df[\"Y1\"] = pd.cut(df[\"Y1\"], bins=[0, 14, 28, np.inf], labels=['Low','Medium','High'])\n",
    "X = df.drop(\"Y1\", axis=1)\n",
    "y = df[\"Y1\"]\n",
    "\n",
    "kf = KFold(n_splits=7)\n",
    "train_err, test_err = [], []\n",
    "\n",
    "print(\"Running 7-Fold Cross Validation...\\n\")\n",
    "for train_index, test_index in kf.split(X):\n",
    "    X_train, X_test = X.iloc[train_index], X.iloc[test_index]\n",
    "    y_train, y_test = y.iloc[train_index], y.iloc[test_index]\n",
    "    mod = linear_model.LogisticRegression()\n",
    "    mod.fit(X_train, y_train)\n",
    "    \n",
    "    y_pred_train = mod2.predict(X_train)\n",
    "    train_rmse = accuracy_score(y_train, y_pred_train)\n",
    "    print(\"Training Accuracy: \" + str(train_rmse))\n",
    "    y_pred_test = mod2.predict(X_test)\n",
    "    test_rmse = accuracy_score(y_test, y_pred_test)\n",
    "    print(\"Test Accuracy: \" + str(test_rmse))\n",
    "    train_err.append(train_rmse)\n",
    "    test_err.append(test_rmse)\n",
    "    \n",
    "print(\"\\nTraining Set Cross-Validation Accuracy: \" + str(np.mean(train_err)))\n",
    "print(\"\\nTest Set Cross-Validation Accuracy: \" + str(np.mean(test_err)))"
   ]
  },
  {
   "cell_type": "markdown",
   "metadata": {},
   "source": [
    "__Q2.4__\n",
    "\n",
    "One of the preprocessing steps in Data science is Feature Scaling i.e getting all our data on the same scale by setting same  Min-Max of feature values. \n",
    "This makes training less sensitive to the scale of features . \n",
    "Scaling is important in algorithms that use distance functions as a part of classification. If we Scale features in the range [0,1] it is called unity based normalization.\n",
    "\n",
    "__Perform unity based normalization on the above dataset and train the model again, compare model performance in training and validation with your previous model.__  \n",
    "\n",
    "refer:http://scikit-learn.org/stable/modules/preprocessing.html#preprocessing-scaler  \n",
    "more at: https://en.wikipedia.org/wiki/Feature_scaling"
   ]
  },
  {
   "cell_type": "code",
   "execution_count": 9,
   "metadata": {},
   "outputs": [
    {
     "name": "stdout",
     "output_type": "stream",
     "text": [
      "Performing Unity-Based Normalization...\n",
      "\n",
      "Running 7-Fold Cross Validation...\n",
      "\n",
      "Training Accuracy: 0.8480243161094225\n",
      "Test Accuracy: 0.5727272727272728\n",
      "Training Accuracy: 0.8297872340425532\n",
      "Test Accuracy: 0.6909090909090909\n",
      "Training Accuracy: 0.8161094224924013\n",
      "Test Accuracy: 0.7090909090909091\n",
      "Training Accuracy: 0.8161094224924013\n",
      "Test Accuracy: 0.8545454545454545\n",
      "Training Accuracy: 0.8069908814589666\n",
      "Test Accuracy: 0.8727272727272727\n",
      "Training Accuracy: 0.7814871016691958\n",
      "Test Accuracy: 0.7431192660550459\n",
      "Training Accuracy: 0.7936267071320182\n",
      "Test Accuracy: 0.7889908256880734\n",
      "\n",
      "Training Set Cross-Validation Accuracy: 0.8131621550567084\n",
      "\n",
      "Test Set Cross-Validation Accuracy: 0.7474442988204456\n"
     ]
    }
   ],
   "source": [
    "from sklearn.preprocessing import MinMaxScaler\n",
    "\n",
    "df = pd.read_csv('Energy.csv')\n",
    "df[\"Y1\"] = pd.cut(df[\"Y1\"], bins=[0, 14, 28, np.inf], labels=['Low','Medium','High'])\n",
    "X_ = df.drop(\"Y1\", axis=1)\n",
    "y = df[\"Y1\"]\n",
    "\n",
    "print(\"Performing Unity-Based Normalization...\\n\")\n",
    "X = MinMaxScaler().fit_transform(X)\n",
    "\n",
    "kf = KFold(n_splits=7)\n",
    "train_err, test_err = [], []\n",
    "\n",
    "print(\"Running 7-Fold Cross Validation...\\n\")\n",
    "for train_index, test_index in kf.split(X):\n",
    "    X_train, X_test = X[train_index], X[test_index]\n",
    "    y_train, y_test = y[train_index], y[test_index]\n",
    "    mod = linear_model.LogisticRegression()\n",
    "    mod.fit(X_train, y_train)\n",
    "    \n",
    "    y_pred_train = mod.predict(X_train)\n",
    "    train_rmse = accuracy_score(y_train, y_pred_train)\n",
    "    print(\"Training Accuracy: \" + str(train_rmse))\n",
    "    y_pred_test = mod.predict(X_test)\n",
    "    test_rmse = accuracy_score(y_test, y_pred_test)\n",
    "    print(\"Test Accuracy: \" + str(test_rmse))\n",
    "    train_err.append(train_rmse)\n",
    "    test_err.append(test_rmse)\n",
    "    \n",
    "print(\"\\nTraining Set Cross-Validation Accuracy: \" + str(np.mean(train_err)))\n",
    "print(\"\\nTest Set Cross-Validation Accuracy: \" + str(np.mean(test_err)))"
   ]
  },
  {
   "cell_type": "code",
   "execution_count": null,
   "metadata": {},
   "outputs": [],
   "source": []
  }
 ],
 "metadata": {
  "kernel_info": {
   "name": "data-x"
  },
  "kernelspec": {
   "display_name": "Python 3",
   "language": "python",
   "name": "python3"
  },
  "language_info": {
   "codemirror_mode": {
    "name": "ipython",
    "version": 3
   },
   "file_extension": ".py",
   "mimetype": "text/x-python",
   "name": "python",
   "nbconvert_exporter": "python",
   "pygments_lexer": "ipython3",
   "version": "3.6.5"
  },
  "nteract": {
   "version": "0.7.1"
  }
 },
 "nbformat": 4,
 "nbformat_minor": 2
}
