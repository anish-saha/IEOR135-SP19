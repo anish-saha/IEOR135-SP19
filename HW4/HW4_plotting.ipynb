{
 "cells": [
  {
   "cell_type": "markdown",
   "metadata": {},
   "source": [
    "# Data-X Spring 2019: Homework 04\n",
    "\n",
    "\n",
    "## Name:\n",
    "\n",
    "Anish Saha\n",
    "\n",
    "## SID: \n",
    "\n",
    "26071616\n",
    "\n",
    "In this homework, you will do some exercises with plotting. \n",
    "\n",
    "REMEMBER TO DISPLAY ALL OUTPUTS. If the question asks you to do something, make sure to print your results.\n"
   ]
  },
  {
   "cell_type": "markdown",
   "metadata": {},
   "source": [
    "### 1. \n",
    "### Data:\n",
    "__Data Source__:\n",
    "Data file is uploaded to bCourses and is named: __Energy.csv__\n",
    "\n",
    "The dataset was created by Angeliki Xifara ( Civil/Structural Engineer) and was processed by Athanasios Tsanas, Oxford Centre for Industrial and Applied Mathematics, University of Oxford, UK).\n",
    "\n",
    "__Data Description__:\n",
    "\n",
    "The dataset contains eight attributes of a building (or features, denoted by X1...X8) and response being the heating load on the building, y1. \n",
    "\n",
    "* X1\tRelative Compactness \n",
    "* X2\tSurface Area \n",
    "* X3\tWall Area \n",
    "*  X4\tRoof Area \n",
    "*  X5\tOverall Height \n",
    "* X6\tOrientation \n",
    "*  X7\tGlazing Area \n",
    "*  X8\tGlazing Area Distribution \n",
    "*  y1\tHeating Load \n"
   ]
  },
  {
   "cell_type": "code",
   "execution_count": 1,
   "metadata": {},
   "outputs": [],
   "source": [
    "import pandas as pd\n",
    "import numpy as np\n",
    "import seaborn as sns\n",
    "import matplotlib.pyplot as plt"
   ]
  },
  {
   "cell_type": "markdown",
   "metadata": {},
   "source": [
    "#### Q1.1\n",
    "Read the data file in python. Check if there are any NaN values, and print the results.\n"
   ]
  },
  {
   "cell_type": "code",
   "execution_count": 2,
   "metadata": {
    "scrolled": true
   },
   "outputs": [
    {
     "data": {
      "text/html": [
       "<div>\n",
       "<style scoped>\n",
       "    .dataframe tbody tr th:only-of-type {\n",
       "        vertical-align: middle;\n",
       "    }\n",
       "\n",
       "    .dataframe tbody tr th {\n",
       "        vertical-align: top;\n",
       "    }\n",
       "\n",
       "    .dataframe thead th {\n",
       "        text-align: right;\n",
       "    }\n",
       "</style>\n",
       "<table border=\"1\" class=\"dataframe\">\n",
       "  <thead>\n",
       "    <tr style=\"text-align: right;\">\n",
       "      <th></th>\n",
       "      <th>X1</th>\n",
       "      <th>X2</th>\n",
       "      <th>X3</th>\n",
       "      <th>X4</th>\n",
       "      <th>X5</th>\n",
       "      <th>X6</th>\n",
       "      <th>X7</th>\n",
       "      <th>X8</th>\n",
       "      <th>Y1</th>\n",
       "    </tr>\n",
       "  </thead>\n",
       "  <tbody>\n",
       "  </tbody>\n",
       "</table>\n",
       "</div>"
      ],
      "text/plain": [
       "Empty DataFrame\n",
       "Columns: [X1, X2, X3, X4, X5, X6, X7, X8, Y1]\n",
       "Index: []"
      ]
     },
     "execution_count": 2,
     "metadata": {},
     "output_type": "execute_result"
    }
   ],
   "source": [
    "df = pd.read_csv(\"Energy.csv\")\n",
    "df.loc[df.isnull().any(axis=1)]"
   ]
  },
  {
   "cell_type": "markdown",
   "metadata": {},
   "source": [
    "#### Q 1.2 \n",
    "Describe (using python function) data features in terms of type, distribution range (max and min), and mean values. "
   ]
  },
  {
   "cell_type": "code",
   "execution_count": 3,
   "metadata": {},
   "outputs": [
    {
     "data": {
      "text/html": [
       "<div>\n",
       "<style scoped>\n",
       "    .dataframe tbody tr th:only-of-type {\n",
       "        vertical-align: middle;\n",
       "    }\n",
       "\n",
       "    .dataframe tbody tr th {\n",
       "        vertical-align: top;\n",
       "    }\n",
       "\n",
       "    .dataframe thead th {\n",
       "        text-align: right;\n",
       "    }\n",
       "</style>\n",
       "<table border=\"1\" class=\"dataframe\">\n",
       "  <thead>\n",
       "    <tr style=\"text-align: right;\">\n",
       "      <th></th>\n",
       "      <th>X1</th>\n",
       "      <th>X2</th>\n",
       "      <th>X3</th>\n",
       "      <th>X4</th>\n",
       "      <th>X5</th>\n",
       "      <th>X6</th>\n",
       "      <th>X7</th>\n",
       "      <th>X8</th>\n",
       "      <th>Y1</th>\n",
       "    </tr>\n",
       "  </thead>\n",
       "  <tbody>\n",
       "    <tr>\n",
       "      <th>count</th>\n",
       "      <td>768.000000</td>\n",
       "      <td>768.000000</td>\n",
       "      <td>768.000000</td>\n",
       "      <td>768.000000</td>\n",
       "      <td>768.00000</td>\n",
       "      <td>768.000000</td>\n",
       "      <td>768.000000</td>\n",
       "      <td>768.00000</td>\n",
       "      <td>768.000000</td>\n",
       "    </tr>\n",
       "    <tr>\n",
       "      <th>mean</th>\n",
       "      <td>0.764167</td>\n",
       "      <td>671.708333</td>\n",
       "      <td>318.500000</td>\n",
       "      <td>176.604167</td>\n",
       "      <td>5.25000</td>\n",
       "      <td>3.500000</td>\n",
       "      <td>0.234375</td>\n",
       "      <td>2.81250</td>\n",
       "      <td>22.307201</td>\n",
       "    </tr>\n",
       "    <tr>\n",
       "      <th>std</th>\n",
       "      <td>0.105777</td>\n",
       "      <td>88.086116</td>\n",
       "      <td>43.626481</td>\n",
       "      <td>45.165950</td>\n",
       "      <td>1.75114</td>\n",
       "      <td>1.118763</td>\n",
       "      <td>0.133221</td>\n",
       "      <td>1.55096</td>\n",
       "      <td>10.090196</td>\n",
       "    </tr>\n",
       "    <tr>\n",
       "      <th>min</th>\n",
       "      <td>0.620000</td>\n",
       "      <td>514.500000</td>\n",
       "      <td>245.000000</td>\n",
       "      <td>110.250000</td>\n",
       "      <td>3.50000</td>\n",
       "      <td>2.000000</td>\n",
       "      <td>0.000000</td>\n",
       "      <td>0.00000</td>\n",
       "      <td>6.010000</td>\n",
       "    </tr>\n",
       "    <tr>\n",
       "      <th>25%</th>\n",
       "      <td>0.682500</td>\n",
       "      <td>606.375000</td>\n",
       "      <td>294.000000</td>\n",
       "      <td>140.875000</td>\n",
       "      <td>3.50000</td>\n",
       "      <td>2.750000</td>\n",
       "      <td>0.100000</td>\n",
       "      <td>1.75000</td>\n",
       "      <td>12.992500</td>\n",
       "    </tr>\n",
       "    <tr>\n",
       "      <th>50%</th>\n",
       "      <td>0.750000</td>\n",
       "      <td>673.750000</td>\n",
       "      <td>318.500000</td>\n",
       "      <td>183.750000</td>\n",
       "      <td>5.25000</td>\n",
       "      <td>3.500000</td>\n",
       "      <td>0.250000</td>\n",
       "      <td>3.00000</td>\n",
       "      <td>18.950000</td>\n",
       "    </tr>\n",
       "    <tr>\n",
       "      <th>75%</th>\n",
       "      <td>0.830000</td>\n",
       "      <td>741.125000</td>\n",
       "      <td>343.000000</td>\n",
       "      <td>220.500000</td>\n",
       "      <td>7.00000</td>\n",
       "      <td>4.250000</td>\n",
       "      <td>0.400000</td>\n",
       "      <td>4.00000</td>\n",
       "      <td>31.667500</td>\n",
       "    </tr>\n",
       "    <tr>\n",
       "      <th>max</th>\n",
       "      <td>0.980000</td>\n",
       "      <td>808.500000</td>\n",
       "      <td>416.500000</td>\n",
       "      <td>220.500000</td>\n",
       "      <td>7.00000</td>\n",
       "      <td>5.000000</td>\n",
       "      <td>0.400000</td>\n",
       "      <td>5.00000</td>\n",
       "      <td>43.100000</td>\n",
       "    </tr>\n",
       "  </tbody>\n",
       "</table>\n",
       "</div>"
      ],
      "text/plain": [
       "               X1          X2          X3          X4         X5          X6  \\\n",
       "count  768.000000  768.000000  768.000000  768.000000  768.00000  768.000000   \n",
       "mean     0.764167  671.708333  318.500000  176.604167    5.25000    3.500000   \n",
       "std      0.105777   88.086116   43.626481   45.165950    1.75114    1.118763   \n",
       "min      0.620000  514.500000  245.000000  110.250000    3.50000    2.000000   \n",
       "25%      0.682500  606.375000  294.000000  140.875000    3.50000    2.750000   \n",
       "50%      0.750000  673.750000  318.500000  183.750000    5.25000    3.500000   \n",
       "75%      0.830000  741.125000  343.000000  220.500000    7.00000    4.250000   \n",
       "max      0.980000  808.500000  416.500000  220.500000    7.00000    5.000000   \n",
       "\n",
       "               X7         X8          Y1  \n",
       "count  768.000000  768.00000  768.000000  \n",
       "mean     0.234375    2.81250   22.307201  \n",
       "std      0.133221    1.55096   10.090196  \n",
       "min      0.000000    0.00000    6.010000  \n",
       "25%      0.100000    1.75000   12.992500  \n",
       "50%      0.250000    3.00000   18.950000  \n",
       "75%      0.400000    4.00000   31.667500  \n",
       "max      0.400000    5.00000   43.100000  "
      ]
     },
     "execution_count": 3,
     "metadata": {},
     "output_type": "execute_result"
    }
   ],
   "source": [
    "df.describe()"
   ]
  },
  {
   "cell_type": "markdown",
   "metadata": {},
   "source": [
    "#### Q 1.3\n",
    "Plot feature distributions for all the attributes in the dataset (Hint - Histograms are one way to plot data distributions). This step should give you clues about data sufficiency."
   ]
  },
  {
   "cell_type": "code",
   "execution_count": 4,
   "metadata": {},
   "outputs": [
    {
     "data": {
      "text/plain": [
       "array([[<matplotlib.axes._subplots.AxesSubplot object at 0x1155c6eb8>,\n",
       "        <matplotlib.axes._subplots.AxesSubplot object at 0x11561a160>,\n",
       "        <matplotlib.axes._subplots.AxesSubplot object at 0x10ee7c470>],\n",
       "       [<matplotlib.axes._subplots.AxesSubplot object at 0x10eea6780>,\n",
       "        <matplotlib.axes._subplots.AxesSubplot object at 0x10eecda90>,\n",
       "        <matplotlib.axes._subplots.AxesSubplot object at 0x10eecdac8>],\n",
       "       [<matplotlib.axes._subplots.AxesSubplot object at 0x1156950b8>,\n",
       "        <matplotlib.axes._subplots.AxesSubplot object at 0x11573e3c8>,\n",
       "        <matplotlib.axes._subplots.AxesSubplot object at 0x1157676d8>]],\n",
       "      dtype=object)"
      ]
     },
     "execution_count": 4,
     "metadata": {},
     "output_type": "execute_result"
    },
    {
     "data": {
      "image/png": "[encoded data removed]",
      "text/plain": [
       "<Figure size 432x288 with 9 Axes>"
      ]
     },
     "metadata": {},
     "output_type": "display_data"
    }
   ],
   "source": [
    "df.hist()"
   ]
  },
  {
   "cell_type": "markdown",
   "metadata": {},
   "source": [
    "#### Q1.4\n",
    "Create a combined line and scatter plot for attributes 'X1' and 'X2' with a marker (*). You can choose either of the attributes as x & y.  Label your axes and give a title to your plot."
   ]
  },
  {
   "cell_type": "code",
   "execution_count": null,
   "metadata": {},
   "outputs": [],
   "source": []
  },
  {
   "cell_type": "code",
   "execution_count": 5,
   "metadata": {},
   "outputs": [
    {
     "data": {
      "text/plain": [
       "[Text(0,0.5,'Surface Area [X2]'), Text(0.5,0,'Relative Compactness [X1]')]"
      ]
     },
     "execution_count": 5,
     "metadata": {},
     "output_type": "execute_result"
    },
    {
     "data": {
      "image/png": "[encoded data removed]",
      "text/plain": [
       "<Figure size 432x288 with 1 Axes>"
      ]
     },
     "metadata": {},
     "output_type": "display_data"
    }
   ],
   "source": [
    "_, ax = plt.subplots()\n",
    "\n",
    "df.plot.scatter(x='X1', y='X2', title=\"Combined Scatter / Line Plot of X1 vs. X2\", ax=ax) \n",
    "df.plot.line(x='X1', y='X2', marker='*', ax=ax)\n",
    "ax.set(xlabel='Relative Compactness [X1]', ylabel='Surface Area [X2]')"
   ]
  },
  {
   "cell_type": "markdown",
   "metadata": {},
   "source": [
    "#### Q1.5\n",
    "Create a scatter plot for how 'Wall Area' changes with 'Relative Compactness'. Give different colors for different 'Overall Height' and different bubble sizes by 'Roof Area'. Label the axes and give a title. Add a legend to your plot."
   ]
  },
  {
   "cell_type": "code",
   "execution_count": 6,
   "metadata": {},
   "outputs": [
    {
     "data": {
      "text/plain": [
       "[Text(0,0.5,'Wall Area [X3]'), Text(0.5,0,'Relative Compactness [X1]')]"
      ]
     },
     "execution_count": 6,
     "metadata": {},
     "output_type": "execute_result"
    },
    {
     "data": {
      "image/png": "[encoded data removed]",
      "text/plain": [
       "<Figure size 432x288 with 2 Axes>"
      ]
     },
     "metadata": {},
     "output_type": "display_data"
    }
   ],
   "source": [
    "# source for function: https://github.com/pandas-dev/pandas/issues/8244\n",
    "def convert_to_points(vals, size_range=(20, 100)): \n",
    "    min_size, max_size = size_range\n",
    "    val_range = vals.max() - vals.min()\n",
    "    normalized_vals = (vals - vals.min()) / val_range\n",
    "    point_sizes = (min_size + (normalized_vals * (max_size - min_size)))\n",
    "    return point_sizes\n",
    "\n",
    "_, ax = plt.subplots()\n",
    "df.plot.scatter(x='X1', y='X3', c='X5', colormap='jet', \n",
    "                s=convert_to_points(df['X4']), legend=True, ax=ax,\n",
    "                title='Plot of X1 vs. X3')\n",
    "ax.set(xlabel='Relative Compactness [X1]', ylabel='Wall Area [X3]')"
   ]
  },
  {
   "cell_type": "markdown",
   "metadata": {},
   "source": [
    "### 2.\n",
    "#### Q 2.1a. \n",
    "Create a dataframe called `icecream` that has column `Flavor` with entries `Strawberry`, `Vanilla`, and `Chocolate` and another column with `Price` with entries `3.50`, `3.00`, and `4.25`. Print the dataframe."
   ]
  },
  {
   "cell_type": "code",
   "execution_count": 7,
   "metadata": {},
   "outputs": [
    {
     "data": {
      "text/html": [
       "<div>\n",
       "<style scoped>\n",
       "    .dataframe tbody tr th:only-of-type {\n",
       "        vertical-align: middle;\n",
       "    }\n",
       "\n",
       "    .dataframe tbody tr th {\n",
       "        vertical-align: top;\n",
       "    }\n",
       "\n",
       "    .dataframe thead th {\n",
       "        text-align: right;\n",
       "    }\n",
       "</style>\n",
       "<table border=\"1\" class=\"dataframe\">\n",
       "  <thead>\n",
       "    <tr style=\"text-align: right;\">\n",
       "      <th></th>\n",
       "      <th>Flavor</th>\n",
       "      <th>Price</th>\n",
       "    </tr>\n",
       "  </thead>\n",
       "  <tbody>\n",
       "    <tr>\n",
       "      <th>0</th>\n",
       "      <td>Strawberry</td>\n",
       "      <td>3.50</td>\n",
       "    </tr>\n",
       "    <tr>\n",
       "      <th>1</th>\n",
       "      <td>Vanilla</td>\n",
       "      <td>3.00</td>\n",
       "    </tr>\n",
       "    <tr>\n",
       "      <th>2</th>\n",
       "      <td>Chocolate</td>\n",
       "      <td>4.25</td>\n",
       "    </tr>\n",
       "  </tbody>\n",
       "</table>\n",
       "</div>"
      ],
      "text/plain": [
       "       Flavor  Price\n",
       "0  Strawberry   3.50\n",
       "1     Vanilla   3.00\n",
       "2   Chocolate   4.25"
      ]
     },
     "execution_count": 7,
     "metadata": {},
     "output_type": "execute_result"
    }
   ],
   "source": [
    "icecream = pd.DataFrame(data={'Flavor': ['Strawberry', 'Vanilla',  'Chocolate'],'Price': [3.50, 3.00, 4.25]})\n",
    "icecream"
   ]
  },
  {
   "cell_type": "markdown",
   "metadata": {},
   "source": [
    "#### Q 2.1b \n",
    "Create a bar chart representing the three flavors and their associated prices. Label the axes and give a title."
   ]
  },
  {
   "cell_type": "code",
   "execution_count": 8,
   "metadata": {},
   "outputs": [
    {
     "data": {
      "text/plain": [
       "[Text(0,0.5,'Price'), Text(0.5,0,'Flavor')]"
      ]
     },
     "execution_count": 8,
     "metadata": {},
     "output_type": "execute_result"
    },
    {
     "data": {
      "image/png": "[encoded data removed]",
      "text/plain": [
       "<Figure size 432x288 with 1 Axes>"
      ]
     },
     "metadata": {},
     "output_type": "display_data"
    }
   ],
   "source": [
    "_, ax = plt.subplots()\n",
    "icecream.plot.bar(x='Flavor', y= 'Price', ax=ax, title='Bar Chart of Flavors vs. Price')\n",
    "ax.set(xlabel='Flavor', ylabel='Price')"
   ]
  },
  {
   "cell_type": "markdown",
   "metadata": {},
   "source": [
    "#### Q 2.2   \n",
    "Create 9 random plots in a figure (Hint: There is a numpy function for generating random data). \n",
    "\n",
    "The top three should be scatter plots (one with green dots, one with purple crosses, and one with blue triangles. The middle three graphs should be a line graph, a horizontal bar chart, and a histogram. The bottom three graphs should be trignometric functions (one sin, one cosine, one tangent). Keep in mind the range and conditions for the trignometric functions.\n",
    "\n",
    "##### All these plots should be on the same figure and not 9 independent figures."
   ]
  },
  {
   "cell_type": "code",
   "execution_count": 9,
   "metadata": {},
   "outputs": [
    {
     "name": "stderr",
     "output_type": "stream",
     "text": [
      "/Library/Frameworks/Python.framework/Versions/3.6/lib/python3.6/site-packages/ipykernel_launcher.py:2: DeprecationWarning: This function is deprecated. Please call randint(1, 30 + 1) instead\n",
      "  \n",
      "/Library/Frameworks/Python.framework/Versions/3.6/lib/python3.6/site-packages/ipykernel_launcher.py:3: DeprecationWarning: This function is deprecated. Please call randint(1, 30 + 1) instead\n",
      "  This is separate from the ipykernel package so we can avoid doing imports until\n",
      "/Library/Frameworks/Python.framework/Versions/3.6/lib/python3.6/site-packages/ipykernel_launcher.py:4: DeprecationWarning: This function is deprecated. Please call randint(1, 30 + 1) instead\n",
      "  after removing the cwd from sys.path.\n"
     ]
    },
    {
     "data": {
      "text/plain": [
       "[<matplotlib.lines.Line2D at 0x115fbcc88>]"
      ]
     },
     "execution_count": 9,
     "metadata": {},
     "output_type": "execute_result"
    },
    {
     "data": {
      "image/png": "[encoded data removed]",
      "text/plain": [
       "<Figure size 432x288 with 9 Axes>"
      ]
     },
     "metadata": {},
     "output_type": "display_data"
    }
   ],
   "source": [
    "np.random.seed(42)\n",
    "arr1 = np.random.random_integers(1, 30, 10)\n",
    "arr2 = np.random.random_integers(1, 30, 10)\n",
    "arr3 = np.random.random_integers(1, 30, 10)\n",
    "arr4 = np.random.random_sample(10)\n",
    "arr5 = np.random.random_sample(10)\n",
    "arr6 = np.random.random_sample(30)\n",
    "arr7 = np.sin(np.arange(-2*np.pi, 2*np.pi, np.pi/8))\n",
    "arr8 = np.cos(np.arange(-2*np.pi, 2*np.pi, np.pi/8))\n",
    "arr9 = np.tan(np.arange(-2*np.pi, 2*np.pi, np.pi/8))\n",
    "\n",
    "plt.figure(1)\n",
    "plt.subplot(331)\n",
    "plt.scatter(np.arange(10), arr1, c='green', marker='.')\n",
    "plt.subplot(332)\n",
    "plt.scatter(np.arange(10), arr2, c='purple', marker='x')\n",
    "plt.subplot(333)\n",
    "plt.scatter(np.arange(10), arr3, c='blue', marker='^')\n",
    "plt.subplot(334)\n",
    "plt.plot(arr4, c='black')\n",
    "plt.subplot(335)\n",
    "plt.barh(np.arange(10), arr5, color='black')\n",
    "plt.subplot(336)\n",
    "plt.hist(arr6, color='black')\n",
    "plt.subplot(337)\n",
    "plt.xlim(-2*np.pi, 2*np.pi)\n",
    "plt.ylim(-1.5, 1.5)\n",
    "plt.plot(np.arange(-2*np.pi, 2*np.pi, np.pi/8), arr7)\n",
    "plt.subplot(338)\n",
    "plt.xlim(-2*np.pi, 2*np.pi)\n",
    "plt.ylim(-1.5, 1.5)\n",
    "plt.plot(np.arange(-2*np.pi, 2*np.pi, np.pi/8), arr8)\n",
    "plt.subplot(339)\n",
    "plt.xlim(-2*np.pi, 2*np.pi)\n",
    "plt.ylim(-1.5, 1.5)\n",
    "plt.plot(np.arange(-2*np.pi, 2*np.pi, np.pi/8), arr9)"
   ]
  },
  {
   "cell_type": "markdown",
   "metadata": {},
   "source": [
    "### 3.\n",
    "#### Q 3.1\n",
    "\n",
    "Load the 'Iris' dataset using seaborn. \n",
    "Create a box plot for the attributes 'sepal_length', sepal_width', 'petal_length' and 'petal_width' in the Iris dataset.\n"
   ]
  },
  {
   "cell_type": "code",
   "execution_count": 10,
   "metadata": {},
   "outputs": [
    {
     "data": {
      "text/plain": [
       "Text(0.5,1,'Petal Width')"
      ]
     },
     "execution_count": 10,
     "metadata": {},
     "output_type": "execute_result"
    },
    {
     "data": {
      "image/png": "[encoded data removed]",
      "text/plain": [
       "<Figure size 432x288 with 4 Axes>"
      ]
     },
     "metadata": {},
     "output_type": "display_data"
    }
   ],
   "source": [
    "iris = sns.load_dataset('iris')\n",
    "plt.figure(1)\n",
    "plt.subplot(221)\n",
    "plt.boxplot(iris['sepal_length'])\n",
    "plt.title('Sepal Length')\n",
    "plt.subplot(222)\n",
    "plt.boxplot(iris['sepal_width'])\n",
    "plt.title('Sepal Width')\n",
    "plt.subplot(223)\n",
    "plt.boxplot(iris['petal_length'])\n",
    "plt.title('Petal Length')\n",
    "plt.subplot(224)\n",
    "plt.boxplot(iris['petal_width'])\n",
    "plt.title('Petal Width')"
   ]
  },
  {
   "cell_type": "markdown",
   "metadata": {},
   "source": [
    "#### Q 3.2\n",
    "In a few sentences explain what can you interpret from the above box plot."
   ]
  },
  {
   "cell_type": "markdown",
   "metadata": {},
   "source": [
    "The Sepal Length seems to have a median around 6, with most values falling in the interquartile range [5, 7].\n",
    "\n",
    "The Sepal Width seems to have a median around 3, with several outliers that are labeled as empty circles.\n",
    "\n",
    "The Petal Length seems to have a median around 4.5, with a skewed right distribution.\n",
    "\n",
    "The Petal Width seems to have a median around 1.5, with most values falling in the interquartile range [0.25, 1.75]."
   ]
  },
  {
   "cell_type": "markdown",
   "metadata": {},
   "source": [
    "#### Q 4.\n",
    "The data files needed: \n",
    "\n",
    "`google_data.txt, ny_temps.txt & yahoo_data.txt`\n",
    "\n",
    "Use your knowledge with `Python, NumPy, pandas and matplotlib` to reproduce the plot below:\n",
    "\n",
    "![](answer.png?raw=true)"
   ]
  },
  {
   "cell_type": "code",
   "execution_count": 11,
   "metadata": {},
   "outputs": [
    {
     "data": {
      "text/plain": [
       "<matplotlib.legend.Legend at 0x116380d68>"
      ]
     },
     "execution_count": 11,
     "metadata": {},
     "output_type": "execute_result"
    },
    {
     "data": {
      "image/png": "[encoded data removed]",
      "text/plain": [
       "<Figure size 432x288 with 2 Axes>"
      ]
     },
     "metadata": {},
     "output_type": "display_data"
    }
   ],
   "source": [
    "google = pd.read_table('google_data.txt')\n",
    "ny = pd.read_table('ny_temps.txt')\n",
    "yahoo = pd.read_table('yahoo_data.txt')\n",
    "\n",
    "fig, ax1 = plt.subplots()\n",
    "ax1.set_title('New York Temperature, Google, and Yahoo!', fontdict={'fontsize':'large','fontweight':600}, pad=25)\n",
    "ax1.set_ylabel('Value (Dollars)', color='Purple')\n",
    "ax1.tick_params(axis='y', colors='green')\n",
    "\n",
    "ax2 = ax1.twinx()\n",
    "ax2.set_ylim([-150, 100])\n",
    "ax2.set_ylabel('Temperature (°F)', color='blue')\n",
    "ax2.tick_params(axis='y', colors='blue')\n",
    "\n",
    "google.plot('Modified Julian Date', 'Stock Value', color = 'green', ax=ax1)\n",
    "yahoo.plot('Modified Julian Date', 'Stock Value', color='purple', ax=ax1)\n",
    "ny.plot('Modified Julian Date', 'Max Temperature', color='blue', ax=ax2, linestyle='dashed')\n",
    "\n",
    "ax1.set_xlabel('Date (MJD)')\n",
    "ax2.set_xlabel('Date (MJD)')\n",
    "\n",
    "ax1.legend(labels = ['Yahoo! Stock Value', 'Google Stock Value'], loc=6, fontsize='x-small', frameon=False)\n",
    "ax2.legend(labels = ['NY Mon. High Temp'], loc=6, bbox_to_anchor=(0,0.425), fontsize='x-small', frameon=False)"
   ]
  },
  {
   "cell_type": "code",
   "execution_count": null,
   "metadata": {},
   "outputs": [],
   "source": []
  }
 ],
 "metadata": {
  "kernel_info": {
   "name": "data-x"
  },
  "kernelspec": {
   "display_name": "Python 3",
   "language": "python",
   "name": "python3"
  },
  "language_info": {
   "codemirror_mode": {
    "name": "ipython",
    "version": 3
   },
   "file_extension": ".py",
   "mimetype": "text/x-python",
   "name": "python",
   "nbconvert_exporter": "python",
   "pygments_lexer": "ipython3",
   "version": "3.6.5"
  },
  "nteract": {
   "version": "0.7.1"
  }
 },
 "nbformat": 4,
 "nbformat_minor": 2
}
